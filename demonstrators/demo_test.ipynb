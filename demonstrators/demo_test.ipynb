{
 "cells": [
  {
   "cell_type": "markdown",
   "id": "2fccdced-4c52-4ab1-8532-efa6ead710f7",
   "metadata": {},
   "source": [
    "# OLAF : creating a simple pipeline demo\n",
    "\n",
    "In this demo, we create a simple pipeline using components from the OLAF library. The corpus is composed of basic sentences. We want to extract concepts and relations from it."
   ]
  },
  {
   "cell_type": "code",
   "execution_count": null,
   "id": "9d424844-319e-4597-86ef-4fd6b7bf720c",
   "metadata": {},
   "outputs": [],
   "source": [
    "import spacy"
   ]
  },
  {
   "cell_type": "code",
   "execution_count": null,
   "id": "56103bce-26a4-42f9-9812-0dde289bebe7",
   "metadata": {},
   "outputs": [],
   "source": [
    "# Import all necessary items from the olaf package\n",
    "from olaf import Pipeline\n",
    "from olaf.pipeline.pipeline_component.term_extraction import POSTermExtraction\n",
    "from olaf.pipeline.pipeline_component.concept_relation_extraction import CTsToConceptExtraction, CTsToRelationExtraction\n",
    "from olaf.repository.serialiser import BaseOWLSerialiser"
   ]
  },
  {
   "cell_type": "code",
   "execution_count": null,
   "id": "0078e04a-b81a-43c0-9561-96e9344ae8e5",
   "metadata": {},
   "outputs": [],
   "source": [
    "# Load the spacy language model according to the corpus\n",
    "spacy_model = spacy.load(\"en_core_web_sm\") "
   ]
  },
  {
   "cell_type": "code",
   "execution_count": null,
   "id": "91aacd67-757c-40f0-8d67-f75146a80237",
   "metadata": {},
   "outputs": [],
   "source": [
    "# Initialise the corpus (for this example text version)\n",
    "corpus = [\n",
    "    \"Alice is 25 years old. Bob, her brother, is 30 years old.\",\n",
    "    \"Alex has a dog called Ouper. Claire's dog is Ouper's best friend.\",\n",
    "    \"Martine is 22 years old. Leo is 27. Leo has a cousin that is 22 years old. Martine has a cousin that is 27 years old.\",\n",
    "    \"Nicolas and Sarah are first cousins. Their grandmother, Louise, is 80.\",\n",
    "    \"Paul and Marie are married. Their son, Thomas, is 10.\"\n",
    "]"
   ]
  },
  {
   "cell_type": "markdown",
   "id": "52c91689-5470-4e7a-9c1e-bc445ead3b19",
   "metadata": {},
   "source": [
    "Now that the corpus is initialised, we can set up the items needed for our pipeline. We choose to extract all the NOUNS in the corpus as concepts,  and all the VERBS as relations. "
   ]
  },
  {
   "cell_type": "markdown",
   "id": "f3da9888",
   "metadata": {},
   "source": [
    "Term extraction based on NOUN POS tags :"
   ]
  },
  {
   "cell_type": "code",
   "execution_count": null,
   "id": "832e3b7d-9cbc-4dbf-8c0c-9e43f26e20f6",
   "metadata": {},
   "outputs": [],
   "source": [
    "# Extract all the nouns in the corpus using Part of Speech tagging \n",
    "\n",
    "concept_pos_selection= [\"NOUN\"] # POS tags to select concepts in the corpus\n",
    "\n",
    "# Setting the parameters of the pipeline\n",
    "my_term_extract_concept = POSTermExtraction(pos_selection=concept_pos_selection)"
   ]
  },
  {
   "cell_type": "markdown",
   "id": "038cc6e4",
   "metadata": {},
   "source": [
    "Concept extraction based on validation of candidate terms found."
   ]
  },
  {
   "cell_type": "code",
   "execution_count": null,
   "id": "0a318c92-26b0-4aa8-bfe1-497d847f3851",
   "metadata": {},
   "outputs": [],
   "source": [
    "my_concept_extraction = CTsToConceptExtraction()"
   ]
  },
  {
   "cell_type": "markdown",
   "id": "940d0057",
   "metadata": {},
   "source": [
    "Term extraction based on VERB POS tags"
   ]
  },
  {
   "cell_type": "code",
   "execution_count": null,
   "id": "e586e9dc-38f3-4da5-96fa-30959046d0c1",
   "metadata": {},
   "outputs": [],
   "source": [
    "# Extract all the verbs in the corpus using Part of Speech tagging\n",
    "\n",
    "relation_pos_selection = [\"VERB\"] # POS tags to select relation in the corpus\n",
    "\n",
    "# Setting the parameters of the pipeline\n",
    "my_term_extract_relation = POSTermExtraction(pos_selection=relation_pos_selection)"
   ]
  },
  {
   "cell_type": "markdown",
   "id": "15078881",
   "metadata": {},
   "source": [
    "Relation extraction based on validation of candidate terms found"
   ]
  },
  {
   "cell_type": "code",
   "execution_count": null,
   "id": "86380251-b07d-4981-84c1-b0ccff3f1267",
   "metadata": {},
   "outputs": [],
   "source": [
    "my_relation_extraction = CTsToRelationExtraction(concept_max_distance=2)"
   ]
  },
  {
   "cell_type": "markdown",
   "id": "ecc23215-ad52-4690-95a3-08a91d1c48ba",
   "metadata": {},
   "source": [
    "Now that all the components needed are created, the pipeline can be created too."
   ]
  },
  {
   "cell_type": "code",
   "execution_count": null,
   "id": "3ff80548-bc30-4c8e-bd14-9c88538f8486",
   "metadata": {},
   "outputs": [],
   "source": [
    "# Setting up my pipeline\n",
    "my_olaf_pipeline = Pipeline(\n",
    "    spacy_model=spacy_model,\n",
    "    pipeline_components=[my_term_extract_relation, my_relation_extraction],\n",
    "    corpus=[doc for doc in spacy_model.pipe(corpus)]\n",
    ")"
   ]
  },
  {
   "cell_type": "code",
   "execution_count": null,
   "id": "d778b0c9-130c-48b9-b543-cdf900c5a36d",
   "metadata": {},
   "outputs": [],
   "source": [
    "my_olaf_pipeline.add_pipeline_component(my_term_extract_concept)\n",
    "my_olaf_pipeline.add_pipeline_component(my_concept_extraction)"
   ]
  },
  {
   "cell_type": "code",
   "execution_count": null,
   "id": "b9b1e102-8164-4cc6-bb52-86502b99393f",
   "metadata": {},
   "outputs": [],
   "source": [
    "# Checking the tokens in corpus\n",
    "for doc in my_olaf_pipeline.corpus:\n",
    "    print([token for token in doc])"
   ]
  },
  {
   "cell_type": "code",
   "execution_count": null,
   "id": "b22902f2-7302-4c86-bb1d-03cb53497ae3",
   "metadata": {},
   "outputs": [],
   "source": [
    "# The knowledge representation should be empty before running the pipeline   \n",
    "my_olaf_pipeline.kr"
   ]
  },
  {
   "cell_type": "code",
   "execution_count": null,
   "id": "9b3d537e-0ab0-449e-bc1f-e74841229baa",
   "metadata": {},
   "outputs": [],
   "source": [
    "# Running the pipeline\n",
    "my_olaf_pipeline.run()"
   ]
  },
  {
   "cell_type": "code",
   "execution_count": null,
   "id": "52c18c9a-02f8-439b-885b-201cfe257622",
   "metadata": {},
   "outputs": [],
   "source": [
    "# Now the knowledge representation should now have the concepts\n",
    "my_olaf_pipeline.kr"
   ]
  },
  {
   "cell_type": "code",
   "execution_count": null,
   "id": "378ace4f-295a-4782-9e87-6a02fc74dd84",
   "metadata": {},
   "outputs": [],
   "source": [
    "# Check the final state of the knowledge representation\n",
    "print(\"Concepts in KR:\")\n",
    "for concept in my_olaf_pipeline.kr.concepts:\n",
    "    print(concept.label)"
   ]
  },
  {
   "cell_type": "code",
   "execution_count": null,
   "id": "962216e3-2d79-43a5-a8ba-5cafe33b0b95",
   "metadata": {},
   "outputs": [],
   "source": [
    "# Let's do the same for the relations\n",
    "print(\"Relations in KR:\")\n",
    "for relation in my_olaf_pipeline.kr.relations:\n",
    "    print(relation.label)"
   ]
  },
  {
   "cell_type": "markdown",
   "id": "f4dd1a80",
   "metadata": {},
   "source": [
    "Now let's export the results using a serializer."
   ]
  },
  {
   "cell_type": "code",
   "execution_count": null,
   "id": "4bfb6f4f-6578-4f72-9a7b-d16df8e93473",
   "metadata": {},
   "outputs": [],
   "source": [
    "# Instantiating serialiser\n",
    "my_olaf_demo_serialiser = BaseOWLSerialiser(\"http://olaf_demo_results.org/\")"
   ]
  },
  {
   "cell_type": "code",
   "execution_count": null,
   "id": "48664ff3-7afb-4407-80de-f81ac0a7198d",
   "metadata": {},
   "outputs": [],
   "source": [
    "# Build the RDF graph from the olaf pipeline KnowledgeRepresentation\n",
    "my_olaf_demo_serialiser.build_graph(my_olaf_pipeline.kr)"
   ]
  },
  {
   "cell_type": "code",
   "execution_count": null,
   "id": "148974ba-0e91-49b2-9632-07ee41cbc312",
   "metadata": {},
   "outputs": [],
   "source": [
    "# Export the RDF graph file path and in default format (turtle)\n",
    "my_olaf_demo_serialiser.export_graph(\"demo_test_results.ttl\")"
   ]
  }
 ],
 "metadata": {
  "kernelspec": {
   "display_name": "Python 3 (ipykernel)",
   "language": "python",
   "name": "python3"
  },
  "language_info": {
   "codemirror_mode": {
    "name": "ipython",
    "version": 3
   },
   "file_extension": ".py",
   "mimetype": "text/x-python",
   "name": "python",
   "nbconvert_exporter": "python",
   "pygments_lexer": "ipython3",
   "version": "3.10.12"
  }
 },
 "nbformat": 4,
 "nbformat_minor": 5
}
